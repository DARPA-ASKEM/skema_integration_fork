{
 "cells": [
  {
   "cell_type": "code",
   "execution_count": 5,
   "metadata": {},
   "outputs": [],
   "source": [
    "# Set the base URL\n",
    "BASE_URL=\"http://localhost:8080\""
   ]
  },
  {
   "cell_type": "code",
   "execution_count": 10,
   "metadata": {},
   "outputs": [],
   "source": [
    "import json\n",
    "import acsets, petris\n",
    "from requests import get, put, post, delete\n",
    "from graphviz import Source"
   ]
  },
  {
   "cell_type": "code",
   "execution_count": 20,
   "metadata": {},
   "outputs": [
    {
     "name": "stdout",
     "output_type": "stream",
     "text": [
      "['St', 'Et', 'It', 'Rt', 'Dt', 'Nt']\n"
     ]
    }
   ],
   "source": [
    "MODEL_ID = 1787\n",
    "opos = get(f\"{BASE_URL}/models/{MODEL_ID}/named_opos\").json()\n",
    "new_opos = []\n",
    "for ent in opos: \n",
    "    new_opos.append(ent.replace(\"d\", \"\"))\n",
    "\n",
    "print(new_opos)"
   ]
  },
  {
   "cell_type": "code",
   "execution_count": 8,
   "metadata": {},
   "outputs": [
    {
     "name": "stdout",
     "output_type": "stream",
     "text": [
      "['y', 't', 'N0', 'alpha', 'beta', 'gamma', 'epsilon', 'mu']\n"
     ]
    }
   ],
   "source": [
    "opis = get(f\"{BASE_URL}/models/{MODEL_ID}/named_opis\").json()\n",
    "print(opis)"
   ]
  },
  {
   "cell_type": "code",
   "execution_count": 23,
   "metadata": {},
   "outputs": [
    {
     "ename": "SyntaxError",
     "evalue": "cannot assign to function call (851457303.py, line 2)",
     "output_type": "error",
     "traceback": [
      "\u001b[0;36m  Cell \u001b[0;32mIn[23], line 2\u001b[0;36m\u001b[0m\n\u001b[0;31m    tuple(new_opos)= seird.add_species(len(new_opos))\u001b[0m\n\u001b[0m    ^\u001b[0m\n\u001b[0;31mSyntaxError\u001b[0m\u001b[0;31m:\u001b[0m cannot assign to function call\n"
     ]
    }
   ],
   "source": [
    "seird = petris.Petri()\n",
    "tuple(new_opos)= seird.add_species(len(new_opos))\n"
   ]
  },
  {
   "cell_type": "code",
   "execution_count": 26,
   "metadata": {},
   "outputs": [
    {
     "name": "stdout",
     "output_type": "stream",
     "text": [
      "{\"S\": [{}, {}, {}], \"T\": [{}, {}], \"I\": [], \"O\": []}\n",
      "{\"S\": [{}, {}, {}], \"T\": [{}, {}], \"I\": [], \"O\": []}\n"
     ]
    }
   ],
   "source": [
    "sir = petris.Petri()\n",
    "s,i,r = sir.add_species(3)\n",
    "trans = petris.Transition\n",
    "inf,rec = sir.add_parts(trans, 2)\n",
    "sir.set_subpart(0, attr_name, \"inf\")\n",
    "\n",
    "serialized = sir.write_json()\n",
    "deserialized = petris.Petri.read_json(petris.SchPetri, serialized)\n",
    "reserialized = deserialized.write_json()\n",
    "\n",
    "print(serialized)\n",
    "print(reserialized)"
   ]
  },
  {
   "cell_type": "code",
   "execution_count": null,
   "metadata": {},
   "outputs": [],
   "source": []
  }
 ],
 "metadata": {
  "kernelspec": {
   "display_name": "Python 3 (ipykernel)",
   "language": "python",
   "name": "python3"
  },
  "language_info": {
   "codemirror_mode": {
    "name": "ipython",
    "version": 3
   },
   "file_extension": ".py",
   "mimetype": "text/x-python",
   "name": "python",
   "nbconvert_exporter": "python",
   "pygments_lexer": "ipython3",
   "version": "3.9.14"
  },
  "orig_nbformat": 4,
  "vscode": {
   "interpreter": {
    "hash": "31f2aee4e71d21fbe5cf8b01ff0e069b9275f58929596ceb00d14d90e3e16cd6"
   }
  }
 },
 "nbformat": 4,
 "nbformat_minor": 2
}
